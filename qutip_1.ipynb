{
  "nbformat": 4,
  "nbformat_minor": 0,
  "metadata": {
    "colab": {
      "name": "qutip-1.ipynb",
      "provenance": [],
      "collapsed_sections": [],
      "authorship_tag": "ABX9TyNklwJNbBUNafJGNF5mxeP6",
      "include_colab_link": true
    },
    "kernelspec": {
      "name": "python3",
      "display_name": "Python 3"
    }
  },
  "cells": [
    {
      "cell_type": "markdown",
      "metadata": {
        "id": "view-in-github",
        "colab_type": "text"
      },
      "source": [
        "<a href=\"https://colab.research.google.com/github/xusky69/dissipative-dynamics/blob/main/qutip_1.ipynb\" target=\"_parent\"><img src=\"https://colab.research.google.com/assets/colab-badge.svg\" alt=\"Open In Colab\"/></a>"
      ]
    },
    {
      "cell_type": "code",
      "metadata": {
        "id": "KRbSRThCGS3t"
      },
      "source": [
        "!pip install -q qutip"
      ],
      "execution_count": 1,
      "outputs": []
    },
    {
      "cell_type": "code",
      "metadata": {
        "id": "4yz2OIUWFuPT"
      },
      "source": [
        "import numpy as np\r\n",
        "import seaborn as sns\r\n",
        "import matplotlib.pyplot as plt\r\n",
        "\r\n",
        "from qutip import *\r\n",
        "\r\n",
        "sns.set_theme()"
      ],
      "execution_count": 2,
      "outputs": []
    },
    {
      "cell_type": "markdown",
      "metadata": {
        "id": "3KFZ1BuO11Ho"
      },
      "source": [
        "# QuTIP dissipative quantum dynamics\r\n"
      ]
    },
    {
      "cell_type": "code",
      "metadata": {
        "id": "hjrvybfx-8Yy"
      },
      "source": [
        "def quantumDissipativeCircuit(H_0, V, circuit, rho, observables, plot = True):\r\n",
        "    '''\r\n",
        "    Recibe:\r\n",
        "        H_0: hamiltoniano del sistema + baño\r\n",
        "        V: hamiltoniano de acople baño-sistema, lista de 1 elemento\r\n",
        "        circuit: lista de tuplas (Gate, Time) que definen las compuertas y su respectivo tiempo de aplicación\r\n",
        "        rho: matriz densidad inicial del sistema\r\n",
        "        observables: lista de tuplas (observables, etiquetas), observables a medir y sus respectivas etiquetas\r\n",
        "        plot: graficar o no\r\n",
        "    Retorna:\r\n",
        "        rho: matriz densidad final del sistema\r\n",
        "        t : lista de tiempos\r\n",
        "        results: valor esperado de los observables para t\r\n",
        "    '''\r\n",
        "\r\n",
        "    applyGate = lambda rho, gate : gate*rho*gate.dag()\r\n",
        "    circuit.sort(key = lambda arr : arr[1])\r\n",
        "    obs = list(map(lambda arr : arr[0], observables))\r\n",
        "    labels = list(map(lambda arr : arr[1], observables))\r\n",
        "    prev_time = 0\r\n",
        "    t_list = []\r\n",
        "    results = []\r\n",
        "    final_results = []\r\n",
        "\r\n",
        "    for gate,time in circuit:\r\n",
        "        t = np.linspace(prev_time, time, 100)\r\n",
        "        t_list.append(t)\r\n",
        "        states = mesolve(H_0, rho, t, V, []).states\r\n",
        "        results.append(mesolve(H_0, rho, t, V, obs).expect)\r\n",
        "        rho = applyGate(states[-1], gate)\r\n",
        "        prev_time = time\r\n",
        "\r\n",
        "    if plot:\r\n",
        "        fig = plt.figure(dpi = 80)\r\n",
        "        for i in range(len(obs)):\r\n",
        "            final_result = np.concatenate(list(map(lambda arr : arr[i], results)))\r\n",
        "            final_results.append(final_result)\r\n",
        "            plt.plot(np.concatenate(t_list), final_result)\r\n",
        "        plt.legend(labels)\r\n",
        "        plt.title('Dissipative quantum circuit' if len(V) != 0 else 'Ideal quantum circuit')\r\n",
        "        plt.show(fig)\r\n",
        "    else: \r\n",
        "        for i in range(len(obs)):\r\n",
        "            final_result = np.concatenate(list(map(lambda arr : arr[i], results)))\r\n",
        "            final_results.append(final_result)\r\n",
        "\r\n",
        "    return [rho, np.concatenate(t_list), final_results]\r\n"
      ],
      "execution_count": 4,
      "outputs": []
    },
    {
      "cell_type": "code",
      "metadata": {
        "colab": {
          "base_uri": "https://localhost:8080/",
          "height": 285
        },
        "id": "G_kv3MIkA8Da",
        "outputId": "393bf4fe-cbb9-498c-b991-8b0979a6eeb2"
      },
      "source": [
        "b_dim = 4\r\n",
        "sigmax_1 = tensor(sigmax(), qeye(2), qeye(b_dim))\r\n",
        "sigmaz_1 = tensor(sigmaz(), qeye(2), qeye(b_dim))\r\n",
        "sigmax_2 = tensor(qeye(2), sigmax(), qeye(b_dim))\r\n",
        "sigmaz_2 = tensor(qeye(2), sigmaz(), qeye(b_dim))\r\n",
        "b = tensor(qeye(2),qeye(2), destroy(b_dim))\r\n",
        "N = b.dag()*b\r\n",
        "\r\n",
        "γ   = 0.1\r\n",
        "Ω_1 = 1.0\r\n",
        "Ω_2 = 1.0\r\n",
        "ω_1 = 1.0\r\n",
        "λ_11 = 0.1\r\n",
        "λ_12 = 0.1\r\n",
        "\r\n",
        "H_S = (1/2)*sigmaz_1 + (1/2)*sigmaz_2 + γ*tensor(sigmaz(), sigmaz(), qeye(b_dim))\r\n",
        "H_B = γ*b.dag()*b\r\n",
        "H_0 = H_S + H_B\r\n",
        "V   = sigmax_1*λ_11*(b.dag() + b) + sigmax_2*λ_12*(b.dag() + b)\r\n",
        "\r\n",
        "rho = tensor(fock(2,0), fock(2,1), fock(b_dim, 2))\r\n",
        "rho = rho*rho.dag()\r\n",
        "\r\n",
        "observables = [sigmaz_1, sigmaz_2, N]\r\n",
        "times = np.linspace(0,50)\r\n",
        "result = mesolve(H_0, rho, times, V, observables)\r\n",
        "\r\n",
        "plt.figure()\r\n",
        "plt.plot(times, result.expect[0])\r\n",
        "plt.plot(times, result.expect[1])\r\n",
        "plt.plot(times, result.expect[2])\r\n",
        "plt.xlabel('Time')\r\n",
        "plt.ylabel('Expectation values')\r\n",
        "plt.legend((\"$\\hat{\\sigma}_z^1$\", \"$\\hat{\\sigma}_z^2$\", \"$N$\"))\r\n",
        "plt.show()"
      ],
      "execution_count": 35,
      "outputs": [
        {
          "output_type": "display_data",
          "data": {
            "image/png": "[encoded data removed]",
            "text/plain": [
              "<Figure size 432x288 with 1 Axes>"
            ]
          },
          "metadata": {
            "tags": []
          }
        }
      ]
    },
    {
      "cell_type": "code",
      "metadata": {
        "id": "oqfLfAw7LlYs"
      },
      "source": [
        ""
      ],
      "execution_count": null,
      "outputs": []
    }
  ]
}